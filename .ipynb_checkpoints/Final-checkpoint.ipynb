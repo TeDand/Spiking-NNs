{
 "cells": [
  {
   "cell_type": "markdown",
   "metadata": {},
   "source": [
    "# Applying a Gradient Free Sampling Based Approach For Training Deep Spiking Neural Networks\n",
    "\n",
    "## Computational Neuroscience basics\n",
    "\n",
    "The following excerpts are from the \"Computational Neuroscience\" coursera course from the University of Washington by Rajesh P.N.Rao and Adrienne Fairhall.\n",
    "\n",
    "### Receptive Fields\n",
    "\n",
    "#### Descriptive Model\n",
    "\n",
    "This model describes *what* a receptive field is. There are two main take-aways:\n",
    "- Encoding - how a neuron reacts to stimuli\n",
    "- Decoding - inferring information from neurons\n",
    "\n",
    "A receptive field can take many forms in order to react to a wide range of different stimuli. Here are two receptive fields used in our sense of sight:\n",
    "\n",
    "![image](images/ReceptiveField1.PNG \"Receptive Field\")\n",
    "\n",
    "This is a receptive field found in the retina. It responds to a bright spot surrounded by darkness\n",
    "\n",
    "![image](images/ReceptiveField2.PNG \"Receptive Field\")\n",
    "\n",
    "This is a receptive field found in the primary visual cortext (which recieves an image from the retina). It responds to a bright strip surrounded by darkness.\n",
    "\n",
    "#### Mechanistic Model\n",
    "\n",
    "This model describes *how* a receptive field works. We simulate the behaviour of either single neurons or networks of many neurons.\n",
    "\n",
    "![image](images/ReceptiveField3.PNG \"Receptive Field\")\n",
    "\n",
    "The above image shows how the receptive field in the visual cortex are formed using the retinas receptive field as building blocks. It is evident that multiple receptive fields from the latter feed into a single receptive field of the former.\n",
    "\n",
    "#### interpretive Model\n",
    "\n",
    "This model describes *why* a receptive field works the way it does, and the computational principles underlying these operations. \n",
    "\n",
    "![image](images/ReceptiveField4.PNG \"Receptive Field\")\n",
    "\n",
    "Above we have multiple examples of receptive fields that may be present in the visual cortex. From them we now want an explanation as to why they are the way they are and what computational advantages there are to having such fields.\n",
    "\n",
    "We can consider an image $ I $ being reconstructed into $ \\hat{I} $ with a linear sum of receptive fields: \n",
    "\n",
    "$$ \\hat{I} = \\sum_iRF_ir_i $$\n",
    "\n",
    "Where $ r_i $ are the neural respones. The main idea is to find the minimal $ RF_i $ that minimise the squared pixelwise errors between $ I $ and $ \\hat{i} $ while being as independent as possible. This is the so called 'efficient coding algorithm'. Running this algortithm on randomised sets of $ RF_i $ surprisingly yield the same receptive fields found in the human body.\n",
    "\n",
    "### Electrical Properties of Neurons\n",
    "\n",
    "![image](images/IdealNeuron.PNG \"Neuron\")\n",
    "image by Eric Chudler, UW\n",
    "\n",
    "Above is an image of an ideal neuron showing its basic structure and it's input and output. Multiple input from other neurons' axons enter the dentrites, and in in the case of a spike, a signal travels down the axon into the dentrites of any other neurons' Dendrites via synapses.\n",
    "\n",
    "![image](images/IonicChannel.PNG \"Ion Channel\")\n",
    "\n",
    "Spikes are generated due to the control of ionic channels, that allow or block certain ions to enter or exit the neuron. This in turn causes changes in the voltage potential of the cell.\n",
    "\n",
    "![image](images/Spike.PNG \"Spike\")\n",
    "image by Eric Chudler, UW\n",
    "\n",
    "Above is an illustration of how the changes in the neurons ionic makeup create the signature spike shape.\n",
    "\n",
    "![image](images/ElectricalSynapse.PNG \"Eletrical Synapse\")\n",
    "![image](images/ChemicalSynapse.PNG \"Chemical Synapse\")\n",
    "\n",
    "These are the two types of synapse that the brain uses to transmits signals between neurons, the left being an electrical synapse (That uses a gap junction to form a potential difference between the two neurons) and the right being a chemical one (That uses neurotransmitters to open ionic channels in the postsynaptic neuron). \n",
    "\n",
    "These synapses are responsible for memory and learning in the brain, using something named *Hebbian Plasticity*. If a neuron repeatedly takes part in the firing of another neuron, then the synapse between then is strengthened. This means that spikes occur more readily in the latter neuron when the former one fires in the future (i.e there will be higher excitory postsynaptic potential (EPSP)). This is called *long Term Potentiation* (LTP). The opposite is also true, and this phenomena is called *Long Term Depression* (LTD).\n",
    "\n",
    "LTP and LTD are dependent on the relative timings of the presynaptic and postsynaptic neurons. If the input spike is before the output spike then there is LTP, and in the converse case there is LTD.\n",
    "\n",
    "![image](images/LTP.PNG \"LTP\")\n",
    "![image](images/LTD.PNG \"LTD\")\n",
    "\n",
    "A common equation used to represent Spike-Dependent Timing Plasticity (SDTP) is given by: \n",
    "\n",
    "$$\\Delta w = \\sum_{t_{pre}} \\sum_{t_{post}} W(t_{post}-t_{pre})$$\n",
    "\n",
    "$$W(\\Delta t) = \\begin{cases}\n",
    "A_{pre} e^{-\\Delta t/\\tau_{pre}} & \\Delta t>0 \\\\\n",
    "A_{post} e^{\\Delta t/\\tau_{post}} & \\Delta t<0\n",
    "\\end{cases}$$\n",
    "\n",
    "Essentially we are summing a function of the difference between pre- and post- synaptic spikes to get the synaptic weight change. This is highly innefecient to run over all synapses and so we have equivalent formulations given by the Brian code below"
   ]
  },
  {
   "cell_type": "code",
   "execution_count": 1,
   "metadata": {},
   "outputs": [
    {
     "name": "stderr",
     "output_type": "stream",
     "text": [
      "C:\\Users\\tejas\\anaconda3\\lib\\site-packages\\setuptools\\distutils_patch.py:25: UserWarning: Distutils was imported before Setuptools. This usage is discouraged and may exhibit undesirable behaviors or errors. Please use Setuptools' objects directly or at least import Setuptools first.\n",
      "  warnings.warn(\n",
      "WARNING    Cannot use Cython, a test compilation failed: Microsoft Visual C++ 14.0 is required. Get it with \"Build Tools for Visual Studio\": https://visualstudio.microsoft.com/downloads/ (DistutilsPlatformError) [brian2.codegen.runtime.cython_rt.cython_rt.failed_compile_test]\n",
      "INFO       Cannot use compiled code, falling back to the numpy code generation target. Note that this will likely be slower than using compiled code. Set the code generation to numpy manually to avoid this message:\n",
      "prefs.codegen.target = \"numpy\" [brian2.devices.device.codegen_fallback]\n"
     ]
    },
    {
     "data": {
      "image/png": "[encoded data removed]",
      "text/plain": [
       "<Figure size 432x288 with 1 Axes>"
      ]
     },
     "metadata": {
      "needs_background": "light"
     },
     "output_type": "display_data"
    }
   ],
   "source": [
    "from brian2 import *\n",
    "%matplotlib inline\n",
    "\n",
    "start_scope()\n",
    "\n",
    "taupre = taupost = 20*ms\n",
    "Apre = 0.01\n",
    "Apost = -Apre*taupre/taupost*1.05\n",
    "tmax = 50*ms\n",
    "N = 100\n",
    "\n",
    "# Presynaptic neurons G spike at times from 0 to tmax\n",
    "# Postsynaptic neurons G spike at times from tmax to 0\n",
    "# So difference in spike times will vary from -tmax to +tmax\n",
    "G = NeuronGroup(N, 'tspike:second', threshold='t>tspike', refractory=100*ms)\n",
    "H = NeuronGroup(N, 'tspike:second', threshold='t>tspike', refractory=100*ms)\n",
    "G.tspike = 'i*tmax/(N-1)'\n",
    "H.tspike = '(N-1-i)*tmax/(N-1)'\n",
    "\n",
    "S = Synapses(G, H,\n",
    "             '''\n",
    "             w : 1\n",
    "             dapre/dt = -apre/taupre : 1 (event-driven)\n",
    "             dapost/dt = -apost/taupost : 1 (event-driven)\n",
    "             ''',\n",
    "             on_pre='''\n",
    "             apre += Apre\n",
    "             w = w+apost\n",
    "             ''',\n",
    "             on_post='''\n",
    "             apost += Apost\n",
    "             w = w+apre\n",
    "             ''')\n",
    "S.connect(j='i')\n",
    "\n",
    "run(tmax+1*ms)\n",
    "\n",
    "plot((H.tspike-G.tspike)/ms, S.w)\n",
    "xlabel(r'$\\Delta t$ (ms)')\n",
    "ylabel(r'$\\Delta w$')\n",
    "axhline(0, ls='-', c='k');"
   ]
  },
  {
   "cell_type": "markdown",
   "metadata": {},
   "source": [
    "Below is a script showing how the firing rate of a neuron that has 100 inputs from *poisson spiking* neurns (which we will cover later on) changes as we reduce the time constant $ \\tau $ of the reciving neuron:"
   ]
  },
  {
   "cell_type": "code",
   "execution_count": 3,
   "metadata": {},
   "outputs": [
    {
     "data": {
      "image/png": "[encoded data removed]",
      "text/plain": [
       "<Figure size 432x288 with 1 Axes>"
      ]
     },
     "metadata": {
      "needs_background": "light"
     },
     "output_type": "display_data"
    }
   ],
   "source": [
    "from brian2 import *\n",
    "%matplotlib inline\n",
    "\n",
    "# remember, this is here for running separate simulations in the same notebook\n",
    "start_scope()\n",
    "# Parameters\n",
    "num_inputs = 100\n",
    "input_rate = 10*Hz\n",
    "weight = 0.1\n",
    "# Range of time constants\n",
    "tau_range = linspace(1, 10, 30)*ms\n",
    "# Use this list to store output rates\n",
    "output_rates = []\n",
    "# Iterate over range of time constants\n",
    "for tau in tau_range:\n",
    "    # Construct the network each time\n",
    "    P = PoissonGroup(num_inputs, rates=input_rate)\n",
    "    eqs = '''\n",
    "    dv/dt = -v/tau : 1\n",
    "    '''\n",
    "    G = NeuronGroup(1, eqs, threshold='v>1', reset='v=0', method='exact')\n",
    "    S = Synapses(P, G, on_pre='v += weight')\n",
    "    S.connect()\n",
    "    M = SpikeMonitor(G)\n",
    "    # Run it and store the output firing rate in the list\n",
    "    run(1*second)\n",
    "    output_rates.append(M.num_spikes/second)\n",
    "# And plot it\n",
    "plot(tau_range/ms, output_rates)\n",
    "xlabel(r'$\\tau$ (ms)')\n",
    "ylabel('Firing rate (sp/s)');"
   ]
  },
  {
   "cell_type": "markdown",
   "metadata": {},
   "source": [
    "### Neural Encoding\n",
    "\n",
    "This is trying to describe how a stimulus casues a pattern of respone, i.e $ p(response|stimulus) $.\n",
    "\n",
    "Neural representation of information is when we plot the neural response (e.g average firing rate) against a certain stimulus parameter (e.g sound volume, frequency etc).\n",
    "\n",
    "#### Basic Encoding Models\n",
    "\n",
    "we have basic encoding models that would give us the average firing rate given a stimulus (i.e $ p(response|stimulus) \\rightarrow r(t) $\n",
    "\n",
    "##### Linear Response\n",
    "\n",
    "The most basic theory we could put forward is that the response at each time is linearly dependent on the stimulus at any given moment.\n",
    "\n",
    "$$ r(t) = \\phi s(t) \\; or \\; \\phi s(t-\\tau) $$\n",
    "\n",
    "But this cannot be the whole picture. In reality we need to take into account previous inputs as well the current one to calculate the response of a neuron. \n",
    "\n",
    "$$ r(t) = \\sum_{k=0}^ns_{t-k}f_k \\: or \\: r(t) = \\int^t_{-\\infty}s(t-\\tau)f(\\tau)d\\tau $$\n",
    "\n",
    "where we have the current stimulus $ s $ as well as the stimulus $ k $ steps into the past weighted by $ f $, which is a function of $ k $. We notice here that when formed into an integral it is very similar to convolution for a Linear Time Invariant (LTI) filter (i.e $ r(t) = s*f $). This system is known as a *temporal filter* as it is dependent on relative time. You can also have spatial filters:\n",
    "\n",
    "$$ r(x, y) = \\sum_{x'=0,y'=-n}^ns_{x-x',y-y'}f_{x',y'} \\: or \\: \\int_{-\\infty}^\\infty s(x-x',y-y')f(x',y')dx'dy' $$\n",
    "\n",
    "Where the response at a certain point is effected by the response of its surrounding points on a 2-D plane.\n",
    "\n",
    "To complete our conceptualisation we must take into account that firing rates cannot be negative, and so we must introduce a non-linear function that achieves this. We can write this full equation as:\n",
    "\n",
    "$$ r(t) = g(\\int^t_{-\\infty}s(t-\\tau)f(\\tau)d\\tau) $$\n",
    "\n",
    "Where $ g $ is a non-linear function\n",
    "\n",
    "In general you can think of a stimulus going through miltiple blocks, that each have thier own function. We can model these blocks like so:\n",
    "\n",
    "![image](images/EncodingModel.png \"Encoding Model\")\n",
    "\n",
    "We have the input stimulus going into a feature (i.e our linear filter), and then into an I/O function (i.e out non-linear function), which then outputs the firing rate of that specific neuron.\n",
    "\n",
    "#### Selecting Features\n",
    "\n",
    "When we are plotting the response given the stimulus, we want to further generalise it for many stimuli to see what the response is for all inputs. Something that is commonly used for this stimulus is gaussian white noise. This noise makes calculations easy since it is gaussian in all dimensions, and is also equally represnted in all frequencies equally.\n",
    "\n",
    "In order to plot this we discretise the stimuli into n timepoints, and record it as an n-dimentional vector which can be plotted on an n-dimentional plot.\n",
    "\n",
    "![image](images/FeatureSelection.png \"Feature Selection\")\n",
    "\n",
    "Here we can see deiscretised simuli from a gaussian white noise source being plottied on an n-dimentional plot. WE can then select the specific stimuli that cause a spike, and label them the spike conditional distribution ($ p(stimulus|spike) $). We can then take the average of this distribution to get the Spike-Triggered Average (STA), which would indicate what type of stimulus would cause a spike in general (i.e the feature of this neuron that acts as the \"linear filter\").\n",
    "\n",
    "Shown below is an example of how a STA would be computed from a set of data in practice. Essentially you find the points at which a spike occurs in a set of data, and save the part of the stimulus that preceded it. Then to get the STA you simply find the average of these stimuli sections. It shows that this particular neuron responds to a sharp increase icrease in the stimulus parameter, that shortly thereafter declines to its resting value."
   ]
  },
  {
   "cell_type": "code",
   "execution_count": 1,
   "metadata": {},
   "outputs": [
    {
     "data": {
      "image/png": "[encoded data removed]",
      "text/plain": [
       "<Figure size 432x288 with 1 Axes>"
      ]
     },
     "metadata": {
      "needs_background": "light"
     },
     "output_type": "display_data"
    }
   ],
   "source": [
    "from __future__ import division\n",
    "import numpy as np\n",
    "import matplotlib.pyplot as plt\n",
    "\n",
    "import pickle\n",
    "import os\n",
    "import sys\n",
    "\n",
    "def compute_sta(stim, rho, num_timesteps):\n",
    "    \"\"\"Compute the spike-triggered average from a stimulus and spike-train.\n",
    "    \n",
    "    Args:\n",
    "        stim: stimulus time-series\n",
    "        rho: spike-train time-series\n",
    "        num_timesteps: how many timesteps to use in STA\n",
    "        \n",
    "    Returns:\n",
    "        spike-triggered average for specified number of timesteps before spike\"\"\"\n",
    "    \n",
    "    sta = np.zeros((num_timesteps,))\n",
    "\n",
    "    # This command finds the indices of all of the spikes that occur\n",
    "    # after 300 ms into the recording.\n",
    "    spike_times = rho[num_timesteps:].nonzero()[0] + num_timesteps\n",
    "    \n",
    "    # Fill in this value. Note that you should not count spikes that occur\n",
    "    # before 300 ms into the recording.\n",
    "    num_spikes = len(spike_times)\n",
    "    \n",
    "    # Compute the spike-triggered average of the spikes found.\n",
    "    # To do this, compute the average of all of the vectors\n",
    "    # starting 300 ms (exclusive) before a spike and ending at the time of\n",
    "    # the event (inclusive). Each of these vectors defines a list of\n",
    "    # samples that is contained within a window of 300 ms before each\n",
    "    # spike. The average of these vectors should be completed in an\n",
    "    # element-wise manner.\n",
    "    # \n",
    "    # Your code goes here.\n",
    "    \n",
    "    for i in spike_times:\n",
    "        for j in range(num_timesteps):\n",
    "            sta[j] = sta[j] + stim[i-num_timesteps+j]\n",
    "\n",
    "    sta = sta/num_spikes\n",
    "    \n",
    "    return sta\n",
    "\n",
    "sys.path.append(os.path.realpath('datasets/c1p8.pickle'))\n",
    "FILENAME = 'datasets/c1p8.pickle'\n",
    "\n",
    "with open(FILENAME, 'rb') as f:\n",
    "    data = pickle.load(f)\n",
    "    \n",
    "stim = data['stim']\n",
    "rho = data['rho']\n",
    "    \n",
    "\n",
    "# Fill in these values\n",
    "# number in ms\n",
    "sampling_period = 2\n",
    "num_timesteps = 150\n",
    "\n",
    "sta = compute_sta(stim, rho, num_timesteps)\n",
    "\n",
    "time = (np.arange(-num_timesteps, 0) + 1) * sampling_period\n",
    "\n",
    "plt.plot(time, sta)\n",
    "plt.xlabel('Time (ms)')\n",
    "plt.ylabel('Stimulus')\n",
    "plt.title('Spike-Triggered Average')\n",
    "\n",
    "plt.show()"
   ]
  },
  {
   "cell_type": "markdown",
   "metadata": {},
   "source": [
    "Previously we though of the linear filtering carried out by a neuron as the convolution of the stimulus with the feature, but since we can now think of them both as n-dimentional vectors we can no simply find the projection of the stimulus onto the projection instead.\n",
    "\n",
    "So now we know that we can obtain the feature of the neuron, we can now find the non-linear I/O function to find a function of the firing rate for a neuron. To do this we make use of *Bayes rule*:\n",
    "\n",
    "$$ p(spike|stimulus) \\rightarrow p(spike|s_1) $$\n",
    "\n",
    "where $ s_1 $ is the projection of the sitmulus onto the feature $ f $ (i.e $ s*f $)\n",
    "\n",
    "$$ p(spike|s_1) = \\frac{p(s_1|spike)p(spike)}{p(s_1)} $$\n",
    "\n",
    "where $ p(s_1|spike) $ is the spike conditional distribution we had earlier and $ p(s_1) $ is the prior probability distribution of the stimulus. for the final value $ p(spike) $ we simply calculate is independent of the stimulus, it is a constant scaling factor.\n",
    "\n",
    "If we do not want to use white noise as a stimulus, and instead want to use a natural one, it is still possible, but it is not guaranteed to converge to a seingle point. The way we do this is to check all possibe features, and find the one which has a distribution that is most varied from its spike-conditional distribution. A good expriment, will ideally have $ p(s_1|spike) $ be as different as possible to $ p(s_1) $. For the former we can simply take the values of $ s_1 $ wherever a spike occured, and compare it to the general distribution of $ s_1 $. To calculate the difference between these two values we make use of the *Kullback-Leibler Divergence*:\n",
    "\n",
    "$$ D_{KL}(p(s_f|spike),p(s_f)) = \\int p(s_f|spike)log_2(\\frac{p(s_f|spike)}{p(s_f)}) ds $$\n",
    "\n",
    "![image](images/FeatureSelection2.png \"Feature Selection 2\")\n",
    "Sharpee, Rust and Bialek, Neural Computation (2004)\n",
    "Image from Fairhall, Barreiro, Shea-Brown (2012)\n",
    "\n",
    "Maximising this integral will give us the most variance between the two functions, and making sure that we make the best possible choice of feature.\n",
    "\n",
    "#### More Complex Models\n",
    "\n",
    "This of course is a very basic view of a spiking network. We can add further complexities that add more blocks to our diagram and make it a more accurate depiction of real neurons. For example, neurons have been observed to have a refractory period, meaning that they have a short \"cool down\" period after they spike. This can be simulated using yet another filter in our diagram. Furthermore, it is possible that neurons are effected by, and have an effect on, other neurons in the network. One such more complex diagram is shown below:\n",
    "\n",
    "![image](images/CoupledSpiking.png \"Coupled Spiking\")\n",
    "Pillow et al., Nature (2008)\n",
    "\n",
    "This system impliments $ r(t) = g(f_1*s + h_1*r_1 + h_2*r_2 + ...) $.\n",
    "\n",
    "#### Spiking Patterns\n",
    "\n",
    "Spiking can be thought of as independent *bernoulli trials*, where the probability of a spike occuring in any given time bin is $ p $. Lets take a recording of time $ T $, and divide it into $ n $ time bins of size $ \\delta t $. We can say that the distribution of the spikes is given by a *binomial distribution*. Therefore the probability of $ k $ spike occuring in $ n $ bins is given by: $ p_n[k] = \\binom knp^k(1-p)^{n-k} $. The mean is $ k\\bar = np $ and the variance is $ \\sigma ^2 = np(1-p) $.\n",
    "\n",
    "However, as we decrease the size of the time bins, the spiking pattern tends to a limit which is *poisson spiking*. The equations for this kind of spiking  are:\n",
    "\n",
    "Probability of k spikes in time T: $ p_T[k] = (rT)^k e^{-\\frac{rT}{k!}} $\n",
    "\n",
    "Mean: $ k\\bar = rT $\n",
    "\n",
    "Variance: $ \\sigma ^2 = rT $\n",
    "\n",
    "Fano-factor: $ F = 1 $\n",
    "\n",
    "Interval distribution: $ p(T) = re^{-rT} $\n",
    "\n",
    "Above we have stated something called the *Fano-factor*. This is essentially just the ratio between the mean and the variance of a distribution. Since for a perfect poission distribution this is always 1, we use this as a test to see wether it truly is poisson or not.\n",
    "\n",
    "Below is a quick brian script that shows a simple neuron governed by the differential equation $ \\frac{dv}{dt} = \\frac{1-v}{tau} $ with a brief refractory period:"
   ]
  },
  {
   "cell_type": "code",
   "execution_count": 2,
   "metadata": {},
   "outputs": [
    {
     "name": "stderr",
     "output_type": "stream",
     "text": [
      "C:\\Users\\tejas\\anaconda3\\lib\\site-packages\\setuptools\\distutils_patch.py:25: UserWarning: Distutils was imported before Setuptools. This usage is discouraged and may exhibit undesirable behaviors or errors. Please use Setuptools' objects directly or at least import Setuptools first.\n",
      "  warnings.warn(\n",
      "WARNING    Cannot use Cython, a test compilation failed: Microsoft Visual C++ 14.0 is required. Get it with \"Build Tools for Visual Studio\": https://visualstudio.microsoft.com/downloads/ (DistutilsPlatformError) [brian2.codegen.runtime.cython_rt.cython_rt.failed_compile_test]\n",
      "INFO       Cannot use compiled code, falling back to the numpy code generation target. Note that this will likely be slower than using compiled code. Set the code generation to numpy manually to avoid this message:\n",
      "prefs.codegen.target = \"numpy\" [brian2.devices.device.codegen_fallback]\n"
     ]
    },
    {
     "data": {
      "image/png": "[encoded data removed]",
      "text/plain": [
       "<Figure size 432x288 with 1 Axes>"
      ]
     },
     "metadata": {
      "needs_background": "light"
     },
     "output_type": "display_data"
    }
   ],
   "source": [
    "from brian2 import *\n",
    "%matplotlib inline\n",
    "\n",
    "start_scope()\n",
    "\n",
    "tau = 10*ms\n",
    "eqs = '''\n",
    "dv/dt = (1-v)/tau : 1 (unless refractory)\n",
    "'''\n",
    "\n",
    "G = NeuronGroup(1, eqs, threshold='v>0.8', reset='v = 0', refractory=5*ms, method='exact')\n",
    "\n",
    "statemon = StateMonitor(G, 'v', record=0)\n",
    "spikemon = SpikeMonitor(G)\n",
    "\n",
    "run(50*ms)\n",
    "\n",
    "plot(statemon.t/ms, statemon.v[0])\n",
    "for t in spikemon.t:\n",
    "    axvline(t/ms, ls='--', c='C1', lw=3)\n",
    "xlabel('Time (ms)')\n",
    "ylabel('v');"
   ]
  },
  {
   "cell_type": "markdown",
   "metadata": {},
   "source": [
    "### Neural Decoding\n",
    "\n",
    "This is trying to describe what a response tells us about the stimulus that caused it, i.e $ p(stimulus|response) $."
   ]
  },
  {
   "cell_type": "markdown",
   "metadata": {},
   "source": [
    "## Linear Regression model\n",
    "\n",
    "### Basic Concepts\n",
    "\n",
    "Using concepts from: https://medium.com/datathings/neural-networks-and-backpropagation-explained-in-a-simple-way-f540a3611f5e \n",
    "and\n",
    "https://www.youtube.com/watch?v=GIsg-ZUy0MY\n",
    "\n",
    "In general when working on Machine Learning (ML) algorithms we have a different problem to traditional programming concepts. You have two main steps; learning what the internal state of a function should be based on training data intputs and outputs, and then using your predicted state to estimate the output for previously unseen inputs.\n",
    "\n",
    "![image](images/ML_BD.png \"Machine Learning Block Diagram\")\n",
    "\n",
    "In order to for the algorthm to learn what the state of a function should be, it follows this general structure:\n",
    "\n",
    "- Model Initialisation\n",
    "\n",
    "For this we usually have the general structure of what the function should look like. For example we can have  linear expression such as: \n",
    "\n",
    "$$ apple yield  = w11 \\times temp + w12 \\times rainfall + w13 \\times humidity + b1 $$\n",
    "$$ orange yield = w21 \\times temp + w22 \\times rainfall + w23 \\times humidity + b2 $$\n",
    "\n",
    "Notice that we have multiple unknowns known as weights ($w_x$) and biases ($b_y$). These are the values we need to learn to make an accurate model. For out initial initialisation we can theoretically choose any number, and so we usually randomise them to begin with.\n",
    "\n",
    "- Forward Propogation\n",
    "\n",
    "Once we have our initialised model, we need to check how close it is to the actualy mdoel we are aiming to learn. In order to do this we first run the model with the training inputs and record the outputs our system generates\n",
    "\n",
    "- Loss Function\n",
    "\n",
    "We then create a loss function to calculate the difference between the outputs our model generated and the actual training outputs. A commonly used function for this is known as Mean-Square Error (MSE), which we will cover later on.\n",
    "\n",
    "- Optimisation\n",
    "\n",
    "This is the step where we improve our model to be closer to the actual one. The most common method is called gradient descent, for which we need to differentiate. Once we have a loss function we can differentiate it w.r.t w and b (i.e $\\frac{dl}{dw}$ and $\\frac{dl}{db}$). This essentially gives us how the loss changes when we change each of these variables.\n",
    "\n",
    "- Backward Propogation\n",
    "\n",
    "Since we obviously want to reduce the loss of our model, we change the unknowns so that they move against the loss gradient. In other words:\n",
    "\n",
    "If a gradient element is positive (blue arrow):\n",
    "\n",
    "- increasing the element's value slightly will increase the loss.\n",
    "- decreasing the element's value slightly will decrease the loss\n",
    "\n",
    "If a gradient element is negative (red arrow):\n",
    "\n",
    "- increasing the element's value slightly will decrease the loss.\n",
    "- decreasing the element's value slightly will increase the loss.\n",
    "\n",
    "![image](images/LossGradient.png \"Loss Gradient\")\n",
    "\n",
    "We can then calculate the loss with these new variables and continue iterating over the previous steps to get a lower and lower loss"
   ]
  },
  {
   "cell_type": "markdown",
   "metadata": {},
   "source": [
    "### Concrete Example\n",
    "\n",
    "Here is a following example using built in functions within the pytorch package:"
   ]
  },
  {
   "cell_type": "code",
   "execution_count": 1,
   "metadata": {},
   "outputs": [],
   "source": [
    "import numpy as np\n",
    "import torch\n",
    "import torch.nn as nn"
   ]
  },
  {
   "cell_type": "markdown",
   "metadata": {},
   "source": [
    "We are trying to estimate the effect of temperature, rainfall and humidity on the growth of apples and oranges. We are modeling this relationship by the following linear equation: \n",
    "\n",
    "$$ apple yield  = w11 \\times temp + w12 \\times rainfall + w13 \\times humidity + b1 $$\n",
    "$$ orange yield = w21 \\times temp + w22 \\times rainfall + w23 \\times humidity + b2 $$\n",
    "\n",
    "First we create our input and output training data using numpy (since numpy is usable with a wider range of packages and is msot likely how you will be recieving the data), and then convert it into PyTorch tensors. As you can see we have included the recorded data of 15 cities."
   ]
  },
  {
   "cell_type": "code",
   "execution_count": 2,
   "metadata": {},
   "outputs": [],
   "source": [
    "# Input (temp, rainfall, humidity)\n",
    "inputs = np.array([[73, 67, 43], [91, 88, 64], [87, 134, 58], \n",
    "                   [102, 43, 37], [69, 96, 70], [73, 67, 43], \n",
    "                   [91, 88, 64], [87, 134, 58], [102, 43, 37], \n",
    "                   [69, 96, 70], [73, 67, 43], [91, 88, 64], \n",
    "                   [87, 134, 58], [102, 43, 37], [69, 96, 70]], \n",
    "                  dtype='float32')\n",
    "\n",
    "# Targets (apples, oranges)\n",
    "targets = np.array([[56, 70], [81, 101], [119, 133], \n",
    "                    [22, 37], [103, 119], [56, 70], \n",
    "                    [81, 101], [119, 133], [22, 37], \n",
    "                    [103, 119], [56, 70], [81, 101], \n",
    "                    [119, 133], [22, 37], [103, 119]], \n",
    "                   dtype='float32')\n",
    "\n",
    "inputs = torch.from_numpy(inputs)\n",
    "targets = torch.from_numpy(targets)"
   ]
  },
  {
   "cell_type": "markdown",
   "metadata": {},
   "source": [
    "Then we want to break up the data into multiple `Dataset`s so that we can work with them separately. This is most helpful when we are working with larger datasets, so break up the computation we are doing (e.g. to access the first three elements of the input and output data we can simply do `train_ds[0:3]`). We also create a DataLoader, which can split the data into batches of a predefined size while training. It also provides other utilities like shuffling and random sampling of the data. (e.g. we can now iterate through the data in chunks of 5 randomly chosen tuples like so:\n",
    "\n",
    "`\n",
    "for xb, yb in train_dl:\n",
    "    print(xb)\n",
    "    print(yb)\n",
    "`"
   ]
  },
  {
   "cell_type": "code",
   "execution_count": 4,
   "metadata": {},
   "outputs": [],
   "source": [
    "from torch.utils.data import TensorDataset\n",
    "from torch.utils.data import DataLoader\n",
    "\n",
    "# Define dataset\n",
    "train_ds = TensorDataset(inputs, targets)\n",
    "\n",
    "# Define data loader\n",
    "batch_size = 5\n",
    "train_dl = DataLoader(train_ds, batch_size, shuffle=True)"
   ]
  },
  {
   "cell_type": "markdown",
   "metadata": {},
   "source": [
    "In order to forward propogate, we need to create an inital weight matrix. To do this we can make use PyTorch yet again. What we are doing here is creating a matrix of 3 weights and 2 biases, as is required in out linear equation. We can access these values by using `model.weight` and `model.bias`, or simply `model.parameters`."
   ]
  },
  {
   "cell_type": "code",
   "execution_count": 5,
   "metadata": {},
   "outputs": [],
   "source": [
    "# Define model\n",
    "model = nn.Linear(3, 2)"
   ]
  },
  {
   "cell_type": "markdown",
   "metadata": {},
   "source": [
    "Then we can forward proopgate by by feeding our input into our randomly generated model. Essentially what is happening is a matrix multiplication, to end up with a matrix of results.\n",
    "\n",
    "![image](images/Model.png \"Model\")"
   ]
  },
  {
   "cell_type": "code",
   "execution_count": 6,
   "metadata": {},
   "outputs": [],
   "source": [
    "# Generate predictions\n",
    "preds = model(inputs)"
   ]
  },
  {
   "cell_type": "markdown",
   "metadata": {},
   "source": [
    "Then finally we need a loss fuction to differentiate and improve our weight matrix. For this we can once again use PyTorch. What we are actually calculating is the Mean-Square Error (MSE) between the training results and our predictions.\n",
    "\n",
    "$$ MSE = \\frac{1}{N}\\sum_{i=1}^N(f_i-y_i)^2 $$\n",
    "\n",
    "Where $N$ is the number of datapoints, and $f_i$ and $y_i$ are the values returned by our model and the actual output for each datapoint $i$ respectively."
   ]
  },
  {
   "cell_type": "code",
   "execution_count": 7,
   "metadata": {},
   "outputs": [],
   "source": [
    "# Import nn.functional\n",
    "import torch.nn.functional as F\n",
    "\n",
    "# Define loss function\n",
    "loss_fn = F.mse_loss\n",
    "\n",
    "loss = loss_fn(model(inputs), targets)"
   ]
  },
  {
   "cell_type": "markdown",
   "metadata": {},
   "source": [
    "Next we want to carry out the optimisation step. For now we will use gradient descent as before. In PyTorch `optim.SGD` stands for stochastic gradient descent. Stochastic is used since we are using randomly selected databatches. We input the parameters we are trying to improve, and also the learning rate we want to implement."
   ]
  },
  {
   "cell_type": "code",
   "execution_count": 8,
   "metadata": {},
   "outputs": [],
   "source": [
    "# Define optimizer\n",
    "opt = torch.optim.SGD(model.parameters(), lr=1e-5)"
   ]
  },
  {
   "cell_type": "markdown",
   "metadata": {},
   "source": [
    "Finally we can put it all together to make a training function. We run it for what we call multiple 'epochs', which essentially means iterations of training. Also we are using the `opt.step` and `opt.zero_grad` functions to update the weights and reset the gradients to zero. We could also do that manually by using the code:\n",
    "\n",
    "`\n",
    "with torch.no_grad():\n",
    "    w -= w.grad * 1e-5\n",
    "    b -= b.grad * 1e-5\n",
    "    w.grad.zero_()\n",
    "    b.grad.zero_()\n",
    "`"
   ]
  },
  {
   "cell_type": "code",
   "execution_count": 20,
   "metadata": {},
   "outputs": [],
   "source": [
    "# Utility function to train the model\n",
    "def fit(num_epochs, model, loss_fn, opt, train_dl):\n",
    "    \n",
    "    # Repeat for given number of epochs\n",
    "    for epoch in range(num_epochs):\n",
    "        \n",
    "        # Train with batches of data\n",
    "        for xb,yb in train_dl:\n",
    "            \n",
    "            # 1. Generate predictions\n",
    "            pred = model(xb)\n",
    "            \n",
    "            # 2. Calculate loss\n",
    "            loss = loss_fn(pred, yb)\n",
    "            \n",
    "            # 3. Compute gradients\n",
    "            loss.backward()\n",
    "            \n",
    "            # 4. Update parameters using gradients\n",
    "            opt.step()\n",
    "            \n",
    "            # 5. Reset the gradients to zero\n",
    "            opt.zero_grad()\n",
    "        \n",
    "        # Print the progress\n",
    "        if (epoch+1) % 10 == 0:\n",
    "            print('Epoch [{}/{}], Loss: {:.4f}'.format(epoch+1, num_epochs, loss.item()))"
   ]
  },
  {
   "cell_type": "markdown",
   "metadata": {},
   "source": [
    "Now we can run our training algorithm for 100 epoch and check how much our error goes down. As is evident we end up with a model which generated outputs quite close to the actual outputs."
   ]
  },
  {
   "cell_type": "code",
   "execution_count": 11,
   "metadata": {},
   "outputs": [
    {
     "name": "stdout",
     "output_type": "stream",
     "text": [
      "Epoch [10/100], Loss: 1049.9531\n",
      "Epoch [20/100], Loss: 123.8482\n",
      "Epoch [30/100], Loss: 172.0408\n",
      "Epoch [40/100], Loss: 80.6848\n",
      "Epoch [50/100], Loss: 161.8276\n",
      "Epoch [60/100], Loss: 90.9157\n",
      "Epoch [70/100], Loss: 9.1269\n",
      "Epoch [80/100], Loss: 55.4193\n",
      "Epoch [90/100], Loss: 53.5239\n",
      "Epoch [100/100], Loss: 35.2748\n"
     ]
    }
   ],
   "source": [
    "fit(100, model, loss_fn, opt, train_dl)"
   ]
  },
  {
   "cell_type": "code",
   "execution_count": 12,
   "metadata": {},
   "outputs": [
    {
     "data": {
      "text/plain": [
       "tensor([[ 59.1822,  71.3231],\n",
       "        [ 79.9493,  97.6083],\n",
       "        [120.8535, 138.9005],\n",
       "        [ 31.9847,  41.6113],\n",
       "        [ 91.6601, 111.1740],\n",
       "        [ 59.1822,  71.3231],\n",
       "        [ 79.9493,  97.6083],\n",
       "        [120.8535, 138.9005],\n",
       "        [ 31.9847,  41.6113],\n",
       "        [ 91.6601, 111.1740],\n",
       "        [ 59.1822,  71.3231],\n",
       "        [ 79.9493,  97.6083],\n",
       "        [120.8535, 138.9005],\n",
       "        [ 31.9847,  41.6113],\n",
       "        [ 91.6601, 111.1740]], grad_fn=<AddmmBackward>)"
      ]
     },
     "execution_count": 12,
     "metadata": {},
     "output_type": "execute_result"
    }
   ],
   "source": [
    "# Generate predictions\n",
    "preds = model(inputs)\n",
    "preds"
   ]
  },
  {
   "cell_type": "code",
   "execution_count": 13,
   "metadata": {},
   "outputs": [
    {
     "data": {
      "text/plain": [
       "tensor([[ 56.,  70.],\n",
       "        [ 81., 101.],\n",
       "        [119., 133.],\n",
       "        [ 22.,  37.],\n",
       "        [103., 119.],\n",
       "        [ 56.,  70.],\n",
       "        [ 81., 101.],\n",
       "        [119., 133.],\n",
       "        [ 22.,  37.],\n",
       "        [103., 119.],\n",
       "        [ 56.,  70.],\n",
       "        [ 81., 101.],\n",
       "        [119., 133.],\n",
       "        [ 22.,  37.],\n",
       "        [103., 119.]])"
      ]
     },
     "execution_count": 13,
     "metadata": {},
     "output_type": "execute_result"
    }
   ],
   "source": [
    "# Compare with targets\n",
    "targets"
   ]
  },
  {
   "cell_type": "markdown",
   "metadata": {},
   "source": [
    "Now we can attempt to use an alternative optimisation technique for this dataset. Instead of gradient descent, we can try to use a random selection technique instead."
   ]
  },
  {
   "cell_type": "code",
   "execution_count": 22,
   "metadata": {},
   "outputs": [
    {
     "name": "stdout",
     "output_type": "stream",
     "text": [
      "Epoch [10/100], Loss: 639.6415\n",
      "Epoch [20/100], Loss: 448.8123\n",
      "Epoch [30/100], Loss: 528.9656\n",
      "Epoch [40/100], Loss: 197.5988\n",
      "Epoch [50/100], Loss: 136.5398\n",
      "Epoch [60/100], Loss: 87.9071\n",
      "Epoch [70/100], Loss: 117.7878\n",
      "Epoch [80/100], Loss: 48.2199\n",
      "Epoch [90/100], Loss: 19.6031\n",
      "Epoch [100/100], Loss: 21.6650\n"
     ]
    }
   ],
   "source": [
    "import numpy as np\n",
    "import torch\n",
    "import torch.nn as nn\n",
    "import torch.nn.functional as F\n",
    "from torch.utils.data import TensorDataset\n",
    "from torch.utils.data import DataLoader\n",
    "\n",
    "# Input (temp, rainfall, humidity)\n",
    "inputs = np.array([[73, 67, 43], [91, 88, 64], [87, 134, 58], \n",
    "                   [102, 43, 37], [69, 96, 70], [73, 67, 43], \n",
    "                   [91, 88, 64], [87, 134, 58], [102, 43, 37], \n",
    "                   [69, 96, 70], [73, 67, 43], [91, 88, 64], \n",
    "                   [87, 134, 58], [102, 43, 37], [69, 96, 70]], \n",
    "                  dtype='float32')\n",
    "\n",
    "# Targets (apples, oranges)\n",
    "targets = np.array([[56, 70], [81, 101], [119, 133], \n",
    "                    [22, 37], [103, 119], [56, 70], \n",
    "                    [81, 101], [119, 133], [22, 37], \n",
    "                    [103, 119], [56, 70], [81, 101], \n",
    "                    [119, 133], [22, 37], [103, 119]], \n",
    "                   dtype='float32')\n",
    "\n",
    "inputs = torch.from_numpy(inputs)\n",
    "targets = torch.from_numpy(targets)\n",
    "\n",
    "# Define dataset\n",
    "train_ds = TensorDataset(inputs, targets)\n",
    "\n",
    "# Define data loader\n",
    "batch_size = 5\n",
    "train_dl = DataLoader(train_ds, batch_size, shuffle=True)\n",
    "\n",
    "model = nn.Linear(3, 2)\n",
    "loss_fn = F.mse_loss\n",
    "# Random sampling approach\n",
    "#def opt(parameters, l_rate, xb, yb):\n",
    "    # Checking the loss around w\n",
    "    \n",
    "    # Checking the loss around b\n",
    "opt = torch.optim.SGD(model.parameters(), lr=1e-5)\n",
    "\n",
    "# Utility function to train the model\n",
    "def fit(num_epochs, model, loss_fn, opt, train_dl):\n",
    "    \n",
    "    # Repeat for given number of epochs\n",
    "    for epoch in range(num_epochs):\n",
    "        \n",
    "        # Train with batches of data\n",
    "        for xb,yb in train_dl:\n",
    "            \n",
    "            # 1. Generate predictions\n",
    "            pred = model(xb)\n",
    "            \n",
    "            # 2. Calculate loss\n",
    "            loss = loss_fn(pred, yb)\n",
    "            \n",
    "            # 3. Compute gradients\n",
    "            loss.backward()\n",
    "            \n",
    "            # 4. Update parameters using gradients\n",
    "            opt.step()\n",
    "            \n",
    "            # 5. Reset the gradients to zero\n",
    "            opt.zero_grad()\n",
    "        \n",
    "        # Print the progress\n",
    "        if (epoch+1) % 10 == 0:\n",
    "            print('Epoch [{}/{}], Loss: {:.4f}'.format(epoch+1, num_epochs, loss.item()))\n",
    "            \n",
    "fit(100, model, loss_fn, opt, train_dl)"
   ]
  },
  {
   "cell_type": "markdown",
   "metadata": {},
   "source": [
    "Now that we have a working example for a basic dataset, we would like to make an artificial model of a neual network. Specifially we will start with a basic feed-forward network."
   ]
  },
  {
   "cell_type": "code",
   "execution_count": null,
   "metadata": {},
   "outputs": [],
   "source": []
  }
 ],
 "metadata": {
  "kernelspec": {
   "display_name": "Python 3",
   "language": "python",
   "name": "python3"
  },
  "language_info": {
   "codemirror_mode": {
    "name": "ipython",
    "version": 3
   },
   "file_extension": ".py",
   "mimetype": "text/x-python",
   "name": "python",
   "nbconvert_exporter": "python",
   "pygments_lexer": "ipython3",
   "version": "3.8.5"
  }
 },
 "nbformat": 4,
 "nbformat_minor": 4
}
